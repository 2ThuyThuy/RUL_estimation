{
 "cells": [
  {
   "cell_type": "code",
   "execution_count": 56,
   "id": "509ee9de",
   "metadata": {
    "ExecuteTime": {
     "end_time": "2023-04-23T06:18:11.274797Z",
     "start_time": "2023-04-23T06:18:11.256826Z"
    }
   },
   "outputs": [],
   "source": [
    "import numpy as np\n",
    "import pandas as pd\n",
    "import matplotlib.pyplot as plt\n",
    "import seaborn as sns\n",
    "from datetime import timedelta, date\n",
    "import datetime\n",
    "from sklearn.preprocessing import StandardScaler, MinMaxScaler"
   ]
  },
  {
   "cell_type": "code",
   "execution_count": 57,
   "id": "17a1bb23",
   "metadata": {
    "ExecuteTime": {
     "end_time": "2023-04-23T06:18:11.743946Z",
     "start_time": "2023-04-23T06:18:11.695746Z"
    }
   },
   "outputs": [],
   "source": [
    "all_test = pd.read_csv(\"all_test.csv\")"
   ]
  },
  {
   "cell_type": "code",
   "execution_count": 6,
   "id": "d7006dd0",
   "metadata": {
    "ExecuteTime": {
     "end_time": "2023-04-20T14:45:22.117439Z",
     "start_time": "2023-04-20T14:45:22.105661Z"
    }
   },
   "outputs": [
    {
     "data": {
      "text/plain": [
       "85"
      ]
     },
     "execution_count": 6,
     "metadata": {},
     "output_type": "execute_result"
    }
   ],
   "source": [
    "all_test.Unit.nunique()"
   ]
  },
  {
   "cell_type": "code",
   "execution_count": 7,
   "id": "e8d9cc6c",
   "metadata": {
    "ExecuteTime": {
     "end_time": "2023-04-20T14:46:27.579556Z",
     "start_time": "2023-04-20T14:46:27.565442Z"
    }
   },
   "outputs": [
    {
     "data": {
      "text/plain": [
       "224"
      ]
     },
     "execution_count": 7,
     "metadata": {},
     "output_type": "execute_result"
    }
   ],
   "source": [
    "176+48"
   ]
  },
  {
   "cell_type": "code",
   "execution_count": 10,
   "id": "e143fecb",
   "metadata": {
    "ExecuteTime": {
     "end_time": "2023-04-20T14:47:30.463507Z",
     "start_time": "2023-04-20T14:47:30.448353Z"
    }
   },
   "outputs": [],
   "source": [
    "df_user  = all_test[all_test.Unit < 224].copy().reset_index(drop=True)"
   ]
  },
  {
   "cell_type": "code",
   "execution_count": 11,
   "id": "6a4af704",
   "metadata": {
    "ExecuteTime": {
     "end_time": "2023-04-20T14:47:31.093978Z",
     "start_time": "2023-04-20T14:47:31.079855Z"
    }
   },
   "outputs": [
    {
     "data": {
      "text/plain": [
       "48"
      ]
     },
     "execution_count": 11,
     "metadata": {},
     "output_type": "execute_result"
    }
   ],
   "source": [
    "df_user.Unit.nunique()"
   ]
  },
  {
   "cell_type": "code",
   "execution_count": 17,
   "id": "4f3a84f5",
   "metadata": {
    "ExecuteTime": {
     "end_time": "2023-04-20T14:52:34.352917Z",
     "start_time": "2023-04-20T14:52:34.329352Z"
    }
   },
   "outputs": [
    {
     "data": {
      "text/html": [
       "<div>\n",
       "<style scoped>\n",
       "    .dataframe tbody tr th:only-of-type {\n",
       "        vertical-align: middle;\n",
       "    }\n",
       "\n",
       "    .dataframe tbody tr th {\n",
       "        vertical-align: top;\n",
       "    }\n",
       "\n",
       "    .dataframe thead th {\n",
       "        text-align: right;\n",
       "    }\n",
       "</style>\n",
       "<table border=\"1\" class=\"dataframe\">\n",
       "  <thead>\n",
       "    <tr style=\"text-align: right;\">\n",
       "      <th></th>\n",
       "      <th>Unit</th>\n",
       "      <th>Timestep</th>\n",
       "      <th>op_setting_1</th>\n",
       "      <th>op_setting_2</th>\n",
       "      <th>op_setting_3</th>\n",
       "      <th>sensor_1</th>\n",
       "      <th>sensor_2</th>\n",
       "      <th>sensor_3</th>\n",
       "      <th>sensor_4</th>\n",
       "      <th>sensor_5</th>\n",
       "      <th>...</th>\n",
       "      <th>sensor_12</th>\n",
       "      <th>sensor_13</th>\n",
       "      <th>sensor_14</th>\n",
       "      <th>sensor_15</th>\n",
       "      <th>sensor_16</th>\n",
       "      <th>sensor_17</th>\n",
       "      <th>sensor_18</th>\n",
       "      <th>sensor_19</th>\n",
       "      <th>sensor_20</th>\n",
       "      <th>sensor_21</th>\n",
       "    </tr>\n",
       "  </thead>\n",
       "  <tbody>\n",
       "    <tr>\n",
       "      <th>0</th>\n",
       "      <td>176</td>\n",
       "      <td>1</td>\n",
       "      <td>42.0003</td>\n",
       "      <td>0.8400</td>\n",
       "      <td>100.0</td>\n",
       "      <td>445.00</td>\n",
       "      <td>549.37</td>\n",
       "      <td>1345.94</td>\n",
       "      <td>1128.55</td>\n",
       "      <td>3.91</td>\n",
       "      <td>...</td>\n",
       "      <td>130.69</td>\n",
       "      <td>2387.95</td>\n",
       "      <td>8082.22</td>\n",
       "      <td>9.3796</td>\n",
       "      <td>0.02</td>\n",
       "      <td>331</td>\n",
       "      <td>2212</td>\n",
       "      <td>100.00</td>\n",
       "      <td>10.76</td>\n",
       "      <td>6.3382</td>\n",
       "    </tr>\n",
       "    <tr>\n",
       "      <th>1</th>\n",
       "      <td>176</td>\n",
       "      <td>2</td>\n",
       "      <td>0.0021</td>\n",
       "      <td>0.0000</td>\n",
       "      <td>100.0</td>\n",
       "      <td>518.67</td>\n",
       "      <td>642.25</td>\n",
       "      <td>1583.77</td>\n",
       "      <td>1402.43</td>\n",
       "      <td>14.62</td>\n",
       "      <td>...</td>\n",
       "      <td>522.14</td>\n",
       "      <td>2388.12</td>\n",
       "      <td>8138.43</td>\n",
       "      <td>8.4156</td>\n",
       "      <td>0.03</td>\n",
       "      <td>394</td>\n",
       "      <td>2388</td>\n",
       "      <td>100.00</td>\n",
       "      <td>39.06</td>\n",
       "      <td>23.3051</td>\n",
       "    </tr>\n",
       "    <tr>\n",
       "      <th>2</th>\n",
       "      <td>176</td>\n",
       "      <td>3</td>\n",
       "      <td>25.0002</td>\n",
       "      <td>0.6212</td>\n",
       "      <td>60.0</td>\n",
       "      <td>462.54</td>\n",
       "      <td>537.03</td>\n",
       "      <td>1265.74</td>\n",
       "      <td>1043.04</td>\n",
       "      <td>7.05</td>\n",
       "      <td>...</td>\n",
       "      <td>164.50</td>\n",
       "      <td>2028.26</td>\n",
       "      <td>7874.99</td>\n",
       "      <td>10.8821</td>\n",
       "      <td>0.02</td>\n",
       "      <td>306</td>\n",
       "      <td>1915</td>\n",
       "      <td>84.93</td>\n",
       "      <td>14.41</td>\n",
       "      <td>8.7017</td>\n",
       "    </tr>\n",
       "    <tr>\n",
       "      <th>3</th>\n",
       "      <td>176</td>\n",
       "      <td>4</td>\n",
       "      <td>41.9994</td>\n",
       "      <td>0.8400</td>\n",
       "      <td>100.0</td>\n",
       "      <td>445.00</td>\n",
       "      <td>549.93</td>\n",
       "      <td>1350.62</td>\n",
       "      <td>1131.21</td>\n",
       "      <td>3.91</td>\n",
       "      <td>...</td>\n",
       "      <td>129.95</td>\n",
       "      <td>2387.97</td>\n",
       "      <td>8090.01</td>\n",
       "      <td>9.3628</td>\n",
       "      <td>0.02</td>\n",
       "      <td>330</td>\n",
       "      <td>2212</td>\n",
       "      <td>100.00</td>\n",
       "      <td>10.49</td>\n",
       "      <td>6.2807</td>\n",
       "    </tr>\n",
       "    <tr>\n",
       "      <th>4</th>\n",
       "      <td>176</td>\n",
       "      <td>5</td>\n",
       "      <td>34.9998</td>\n",
       "      <td>0.8400</td>\n",
       "      <td>100.0</td>\n",
       "      <td>449.44</td>\n",
       "      <td>555.71</td>\n",
       "      <td>1371.53</td>\n",
       "      <td>1130.00</td>\n",
       "      <td>5.48</td>\n",
       "      <td>...</td>\n",
       "      <td>183.04</td>\n",
       "      <td>2388.04</td>\n",
       "      <td>8071.90</td>\n",
       "      <td>9.2974</td>\n",
       "      <td>0.02</td>\n",
       "      <td>334</td>\n",
       "      <td>2223</td>\n",
       "      <td>100.00</td>\n",
       "      <td>14.82</td>\n",
       "      <td>8.9769</td>\n",
       "    </tr>\n",
       "  </tbody>\n",
       "</table>\n",
       "<p>5 rows × 26 columns</p>\n",
       "</div>"
      ],
      "text/plain": [
       "   Unit  Timestep  op_setting_1  op_setting_2  op_setting_3  sensor_1  \\\n",
       "0   176         1       42.0003        0.8400         100.0    445.00   \n",
       "1   176         2        0.0021        0.0000         100.0    518.67   \n",
       "2   176         3       25.0002        0.6212          60.0    462.54   \n",
       "3   176         4       41.9994        0.8400         100.0    445.00   \n",
       "4   176         5       34.9998        0.8400         100.0    449.44   \n",
       "\n",
       "   sensor_2  sensor_3  sensor_4  sensor_5  ...  sensor_12  sensor_13  \\\n",
       "0    549.37   1345.94   1128.55      3.91  ...     130.69    2387.95   \n",
       "1    642.25   1583.77   1402.43     14.62  ...     522.14    2388.12   \n",
       "2    537.03   1265.74   1043.04      7.05  ...     164.50    2028.26   \n",
       "3    549.93   1350.62   1131.21      3.91  ...     129.95    2387.97   \n",
       "4    555.71   1371.53   1130.00      5.48  ...     183.04    2388.04   \n",
       "\n",
       "   sensor_14  sensor_15  sensor_16  sensor_17  sensor_18  sensor_19  \\\n",
       "0    8082.22     9.3796       0.02        331       2212     100.00   \n",
       "1    8138.43     8.4156       0.03        394       2388     100.00   \n",
       "2    7874.99    10.8821       0.02        306       1915      84.93   \n",
       "3    8090.01     9.3628       0.02        330       2212     100.00   \n",
       "4    8071.90     9.2974       0.02        334       2223     100.00   \n",
       "\n",
       "   sensor_20  sensor_21  \n",
       "0      10.76     6.3382  \n",
       "1      39.06    23.3051  \n",
       "2      14.41     8.7017  \n",
       "3      10.49     6.2807  \n",
       "4      14.82     8.9769  \n",
       "\n",
       "[5 rows x 26 columns]"
      ]
     },
     "execution_count": 17,
     "metadata": {},
     "output_type": "execute_result"
    }
   ],
   "source": [
    "df_user.head()"
   ]
  },
  {
   "cell_type": "code",
   "execution_count": 21,
   "id": "70999869",
   "metadata": {
    "ExecuteTime": {
     "end_time": "2023-04-20T14:53:15.972849Z",
     "start_time": "2023-04-20T14:53:15.962501Z"
    }
   },
   "outputs": [],
   "source": [
    "test = df_user[df_user.Unit == 176].copy()"
   ]
  },
  {
   "cell_type": "code",
   "execution_count": 29,
   "id": "8372c0b6",
   "metadata": {
    "ExecuteTime": {
     "end_time": "2023-04-20T14:54:33.524746Z",
     "start_time": "2023-04-20T14:54:33.513734Z"
    }
   },
   "outputs": [
    {
     "data": {
      "text/plain": [
       "196.25"
      ]
     },
     "execution_count": 29,
     "metadata": {},
     "output_type": "execute_result"
    }
   ],
   "source": [
    "vl.mean()"
   ]
  },
  {
   "cell_type": "code",
   "execution_count": 30,
   "id": "7f6f9017",
   "metadata": {
    "ExecuteTime": {
     "end_time": "2023-04-20T14:54:39.468672Z",
     "start_time": "2023-04-20T14:54:39.457989Z"
    }
   },
   "outputs": [
    {
     "data": {
      "text/plain": [
       "133"
      ]
     },
     "execution_count": 30,
     "metadata": {},
     "output_type": "execute_result"
    }
   ],
   "source": [
    "vl.min()"
   ]
  },
  {
   "cell_type": "code",
   "execution_count": 31,
   "id": "39717224",
   "metadata": {
    "ExecuteTime": {
     "end_time": "2023-04-20T14:54:48.043728Z",
     "start_time": "2023-04-20T14:54:48.033785Z"
    }
   },
   "outputs": [
    {
     "data": {
      "text/plain": [
       "297"
      ]
     },
     "execution_count": 31,
     "metadata": {},
     "output_type": "execute_result"
    }
   ],
   "source": [
    "vl.max()"
   ]
  },
  {
   "cell_type": "code",
   "execution_count": 22,
   "id": "98e385e0",
   "metadata": {
    "ExecuteTime": {
     "end_time": "2023-04-20T14:53:16.439244Z",
     "start_time": "2023-04-20T14:53:16.416097Z"
    }
   },
   "outputs": [
    {
     "data": {
      "text/html": [
       "<div>\n",
       "<style scoped>\n",
       "    .dataframe tbody tr th:only-of-type {\n",
       "        vertical-align: middle;\n",
       "    }\n",
       "\n",
       "    .dataframe tbody tr th {\n",
       "        vertical-align: top;\n",
       "    }\n",
       "\n",
       "    .dataframe thead th {\n",
       "        text-align: right;\n",
       "    }\n",
       "</style>\n",
       "<table border=\"1\" class=\"dataframe\">\n",
       "  <thead>\n",
       "    <tr style=\"text-align: right;\">\n",
       "      <th></th>\n",
       "      <th>Unit</th>\n",
       "      <th>Timestep</th>\n",
       "      <th>op_setting_1</th>\n",
       "      <th>op_setting_2</th>\n",
       "      <th>op_setting_3</th>\n",
       "      <th>sensor_1</th>\n",
       "      <th>sensor_2</th>\n",
       "      <th>sensor_3</th>\n",
       "      <th>sensor_4</th>\n",
       "      <th>sensor_5</th>\n",
       "      <th>...</th>\n",
       "      <th>sensor_12</th>\n",
       "      <th>sensor_13</th>\n",
       "      <th>sensor_14</th>\n",
       "      <th>sensor_15</th>\n",
       "      <th>sensor_16</th>\n",
       "      <th>sensor_17</th>\n",
       "      <th>sensor_18</th>\n",
       "      <th>sensor_19</th>\n",
       "      <th>sensor_20</th>\n",
       "      <th>sensor_21</th>\n",
       "    </tr>\n",
       "  </thead>\n",
       "  <tbody>\n",
       "    <tr>\n",
       "      <th>0</th>\n",
       "      <td>176</td>\n",
       "      <td>1</td>\n",
       "      <td>42.0003</td>\n",
       "      <td>0.8400</td>\n",
       "      <td>100.0</td>\n",
       "      <td>445.00</td>\n",
       "      <td>549.37</td>\n",
       "      <td>1345.94</td>\n",
       "      <td>1128.55</td>\n",
       "      <td>3.91</td>\n",
       "      <td>...</td>\n",
       "      <td>130.69</td>\n",
       "      <td>2387.95</td>\n",
       "      <td>8082.22</td>\n",
       "      <td>9.3796</td>\n",
       "      <td>0.02</td>\n",
       "      <td>331</td>\n",
       "      <td>2212</td>\n",
       "      <td>100.00</td>\n",
       "      <td>10.76</td>\n",
       "      <td>6.3382</td>\n",
       "    </tr>\n",
       "    <tr>\n",
       "      <th>1</th>\n",
       "      <td>176</td>\n",
       "      <td>2</td>\n",
       "      <td>0.0021</td>\n",
       "      <td>0.0000</td>\n",
       "      <td>100.0</td>\n",
       "      <td>518.67</td>\n",
       "      <td>642.25</td>\n",
       "      <td>1583.77</td>\n",
       "      <td>1402.43</td>\n",
       "      <td>14.62</td>\n",
       "      <td>...</td>\n",
       "      <td>522.14</td>\n",
       "      <td>2388.12</td>\n",
       "      <td>8138.43</td>\n",
       "      <td>8.4156</td>\n",
       "      <td>0.03</td>\n",
       "      <td>394</td>\n",
       "      <td>2388</td>\n",
       "      <td>100.00</td>\n",
       "      <td>39.06</td>\n",
       "      <td>23.3051</td>\n",
       "    </tr>\n",
       "    <tr>\n",
       "      <th>2</th>\n",
       "      <td>176</td>\n",
       "      <td>3</td>\n",
       "      <td>25.0002</td>\n",
       "      <td>0.6212</td>\n",
       "      <td>60.0</td>\n",
       "      <td>462.54</td>\n",
       "      <td>537.03</td>\n",
       "      <td>1265.74</td>\n",
       "      <td>1043.04</td>\n",
       "      <td>7.05</td>\n",
       "      <td>...</td>\n",
       "      <td>164.50</td>\n",
       "      <td>2028.26</td>\n",
       "      <td>7874.99</td>\n",
       "      <td>10.8821</td>\n",
       "      <td>0.02</td>\n",
       "      <td>306</td>\n",
       "      <td>1915</td>\n",
       "      <td>84.93</td>\n",
       "      <td>14.41</td>\n",
       "      <td>8.7017</td>\n",
       "    </tr>\n",
       "    <tr>\n",
       "      <th>3</th>\n",
       "      <td>176</td>\n",
       "      <td>4</td>\n",
       "      <td>41.9994</td>\n",
       "      <td>0.8400</td>\n",
       "      <td>100.0</td>\n",
       "      <td>445.00</td>\n",
       "      <td>549.93</td>\n",
       "      <td>1350.62</td>\n",
       "      <td>1131.21</td>\n",
       "      <td>3.91</td>\n",
       "      <td>...</td>\n",
       "      <td>129.95</td>\n",
       "      <td>2387.97</td>\n",
       "      <td>8090.01</td>\n",
       "      <td>9.3628</td>\n",
       "      <td>0.02</td>\n",
       "      <td>330</td>\n",
       "      <td>2212</td>\n",
       "      <td>100.00</td>\n",
       "      <td>10.49</td>\n",
       "      <td>6.2807</td>\n",
       "    </tr>\n",
       "    <tr>\n",
       "      <th>4</th>\n",
       "      <td>176</td>\n",
       "      <td>5</td>\n",
       "      <td>34.9998</td>\n",
       "      <td>0.8400</td>\n",
       "      <td>100.0</td>\n",
       "      <td>449.44</td>\n",
       "      <td>555.71</td>\n",
       "      <td>1371.53</td>\n",
       "      <td>1130.00</td>\n",
       "      <td>5.48</td>\n",
       "      <td>...</td>\n",
       "      <td>183.04</td>\n",
       "      <td>2388.04</td>\n",
       "      <td>8071.90</td>\n",
       "      <td>9.2974</td>\n",
       "      <td>0.02</td>\n",
       "      <td>334</td>\n",
       "      <td>2223</td>\n",
       "      <td>100.00</td>\n",
       "      <td>14.82</td>\n",
       "      <td>8.9769</td>\n",
       "    </tr>\n",
       "    <tr>\n",
       "      <th>...</th>\n",
       "      <td>...</td>\n",
       "      <td>...</td>\n",
       "      <td>...</td>\n",
       "      <td>...</td>\n",
       "      <td>...</td>\n",
       "      <td>...</td>\n",
       "      <td>...</td>\n",
       "      <td>...</td>\n",
       "      <td>...</td>\n",
       "      <td>...</td>\n",
       "      <td>...</td>\n",
       "      <td>...</td>\n",
       "      <td>...</td>\n",
       "      <td>...</td>\n",
       "      <td>...</td>\n",
       "      <td>...</td>\n",
       "      <td>...</td>\n",
       "      <td>...</td>\n",
       "      <td>...</td>\n",
       "      <td>...</td>\n",
       "      <td>...</td>\n",
       "    </tr>\n",
       "    <tr>\n",
       "      <th>159</th>\n",
       "      <td>176</td>\n",
       "      <td>160</td>\n",
       "      <td>25.0059</td>\n",
       "      <td>0.6211</td>\n",
       "      <td>60.0</td>\n",
       "      <td>462.54</td>\n",
       "      <td>536.92</td>\n",
       "      <td>1273.82</td>\n",
       "      <td>1065.00</td>\n",
       "      <td>7.05</td>\n",
       "      <td>...</td>\n",
       "      <td>164.33</td>\n",
       "      <td>2027.93</td>\n",
       "      <td>7866.75</td>\n",
       "      <td>10.9904</td>\n",
       "      <td>0.02</td>\n",
       "      <td>309</td>\n",
       "      <td>1915</td>\n",
       "      <td>84.93</td>\n",
       "      <td>14.08</td>\n",
       "      <td>8.4350</td>\n",
       "    </tr>\n",
       "    <tr>\n",
       "      <th>160</th>\n",
       "      <td>176</td>\n",
       "      <td>161</td>\n",
       "      <td>34.9999</td>\n",
       "      <td>0.8418</td>\n",
       "      <td>100.0</td>\n",
       "      <td>449.44</td>\n",
       "      <td>556.61</td>\n",
       "      <td>1373.99</td>\n",
       "      <td>1144.87</td>\n",
       "      <td>5.48</td>\n",
       "      <td>...</td>\n",
       "      <td>182.77</td>\n",
       "      <td>2387.80</td>\n",
       "      <td>8051.53</td>\n",
       "      <td>9.4138</td>\n",
       "      <td>0.02</td>\n",
       "      <td>335</td>\n",
       "      <td>2223</td>\n",
       "      <td>100.00</td>\n",
       "      <td>14.66</td>\n",
       "      <td>8.8144</td>\n",
       "    </tr>\n",
       "    <tr>\n",
       "      <th>161</th>\n",
       "      <td>176</td>\n",
       "      <td>162</td>\n",
       "      <td>42.0011</td>\n",
       "      <td>0.8411</td>\n",
       "      <td>100.0</td>\n",
       "      <td>445.00</td>\n",
       "      <td>550.93</td>\n",
       "      <td>1362.63</td>\n",
       "      <td>1140.96</td>\n",
       "      <td>3.91</td>\n",
       "      <td>...</td>\n",
       "      <td>129.86</td>\n",
       "      <td>2387.52</td>\n",
       "      <td>8066.82</td>\n",
       "      <td>9.4718</td>\n",
       "      <td>0.02</td>\n",
       "      <td>333</td>\n",
       "      <td>2212</td>\n",
       "      <td>100.00</td>\n",
       "      <td>10.29</td>\n",
       "      <td>6.3152</td>\n",
       "    </tr>\n",
       "    <tr>\n",
       "      <th>162</th>\n",
       "      <td>176</td>\n",
       "      <td>163</td>\n",
       "      <td>35.0034</td>\n",
       "      <td>0.8400</td>\n",
       "      <td>100.0</td>\n",
       "      <td>449.44</td>\n",
       "      <td>556.16</td>\n",
       "      <td>1366.74</td>\n",
       "      <td>1140.67</td>\n",
       "      <td>5.48</td>\n",
       "      <td>...</td>\n",
       "      <td>182.32</td>\n",
       "      <td>2387.83</td>\n",
       "      <td>8051.21</td>\n",
       "      <td>9.4254</td>\n",
       "      <td>0.02</td>\n",
       "      <td>336</td>\n",
       "      <td>2223</td>\n",
       "      <td>100.00</td>\n",
       "      <td>14.83</td>\n",
       "      <td>8.8982</td>\n",
       "    </tr>\n",
       "    <tr>\n",
       "      <th>163</th>\n",
       "      <td>176</td>\n",
       "      <td>164</td>\n",
       "      <td>20.0009</td>\n",
       "      <td>0.7000</td>\n",
       "      <td>100.0</td>\n",
       "      <td>491.19</td>\n",
       "      <td>608.38</td>\n",
       "      <td>1496.41</td>\n",
       "      <td>1270.39</td>\n",
       "      <td>9.35</td>\n",
       "      <td>...</td>\n",
       "      <td>313.80</td>\n",
       "      <td>2388.20</td>\n",
       "      <td>8054.65</td>\n",
       "      <td>9.3429</td>\n",
       "      <td>0.03</td>\n",
       "      <td>368</td>\n",
       "      <td>2324</td>\n",
       "      <td>100.00</td>\n",
       "      <td>24.28</td>\n",
       "      <td>14.5000</td>\n",
       "    </tr>\n",
       "  </tbody>\n",
       "</table>\n",
       "<p>164 rows × 26 columns</p>\n",
       "</div>"
      ],
      "text/plain": [
       "     Unit  Timestep  op_setting_1  op_setting_2  op_setting_3  sensor_1  \\\n",
       "0     176         1       42.0003        0.8400         100.0    445.00   \n",
       "1     176         2        0.0021        0.0000         100.0    518.67   \n",
       "2     176         3       25.0002        0.6212          60.0    462.54   \n",
       "3     176         4       41.9994        0.8400         100.0    445.00   \n",
       "4     176         5       34.9998        0.8400         100.0    449.44   \n",
       "..    ...       ...           ...           ...           ...       ...   \n",
       "159   176       160       25.0059        0.6211          60.0    462.54   \n",
       "160   176       161       34.9999        0.8418         100.0    449.44   \n",
       "161   176       162       42.0011        0.8411         100.0    445.00   \n",
       "162   176       163       35.0034        0.8400         100.0    449.44   \n",
       "163   176       164       20.0009        0.7000         100.0    491.19   \n",
       "\n",
       "     sensor_2  sensor_3  sensor_4  sensor_5  ...  sensor_12  sensor_13  \\\n",
       "0      549.37   1345.94   1128.55      3.91  ...     130.69    2387.95   \n",
       "1      642.25   1583.77   1402.43     14.62  ...     522.14    2388.12   \n",
       "2      537.03   1265.74   1043.04      7.05  ...     164.50    2028.26   \n",
       "3      549.93   1350.62   1131.21      3.91  ...     129.95    2387.97   \n",
       "4      555.71   1371.53   1130.00      5.48  ...     183.04    2388.04   \n",
       "..        ...       ...       ...       ...  ...        ...        ...   \n",
       "159    536.92   1273.82   1065.00      7.05  ...     164.33    2027.93   \n",
       "160    556.61   1373.99   1144.87      5.48  ...     182.77    2387.80   \n",
       "161    550.93   1362.63   1140.96      3.91  ...     129.86    2387.52   \n",
       "162    556.16   1366.74   1140.67      5.48  ...     182.32    2387.83   \n",
       "163    608.38   1496.41   1270.39      9.35  ...     313.80    2388.20   \n",
       "\n",
       "     sensor_14  sensor_15  sensor_16  sensor_17  sensor_18  sensor_19  \\\n",
       "0      8082.22     9.3796       0.02        331       2212     100.00   \n",
       "1      8138.43     8.4156       0.03        394       2388     100.00   \n",
       "2      7874.99    10.8821       0.02        306       1915      84.93   \n",
       "3      8090.01     9.3628       0.02        330       2212     100.00   \n",
       "4      8071.90     9.2974       0.02        334       2223     100.00   \n",
       "..         ...        ...        ...        ...        ...        ...   \n",
       "159    7866.75    10.9904       0.02        309       1915      84.93   \n",
       "160    8051.53     9.4138       0.02        335       2223     100.00   \n",
       "161    8066.82     9.4718       0.02        333       2212     100.00   \n",
       "162    8051.21     9.4254       0.02        336       2223     100.00   \n",
       "163    8054.65     9.3429       0.03        368       2324     100.00   \n",
       "\n",
       "     sensor_20  sensor_21  \n",
       "0        10.76     6.3382  \n",
       "1        39.06    23.3051  \n",
       "2        14.41     8.7017  \n",
       "3        10.49     6.2807  \n",
       "4        14.82     8.9769  \n",
       "..         ...        ...  \n",
       "159      14.08     8.4350  \n",
       "160      14.66     8.8144  \n",
       "161      10.29     6.3152  \n",
       "162      14.83     8.8982  \n",
       "163      24.28    14.5000  \n",
       "\n",
       "[164 rows x 26 columns]"
      ]
     },
     "execution_count": 22,
     "metadata": {},
     "output_type": "execute_result"
    }
   ],
   "source": [
    "test"
   ]
  },
  {
   "cell_type": "code",
   "execution_count": 53,
   "id": "c2dad970",
   "metadata": {
    "ExecuteTime": {
     "end_time": "2023-04-20T15:13:50.212519Z",
     "start_time": "2023-04-20T15:13:50.164708Z"
    }
   },
   "outputs": [],
   "source": [
    "data_user = []\n",
    "for unit in df_user.Unit.unique():\n",
    "    df_unit = df_user[df_user.Unit == unit].copy()\n",
    "    value_date = np.full(shape=len(df_unit), fill_value=date.today() - timedelta(days=80))\n",
    "    value_date = np.array([ day + timedelta(days=nums) for nums, day in enumerate(value_date)])\n",
    "    df_unit['Timestamp'] = value_date\n",
    "    data_user.append(df_unit)"
   ]
  },
  {
   "cell_type": "code",
   "execution_count": null,
   "id": "ab828746",
   "metadata": {},
   "outputs": [],
   "source": []
  },
  {
   "cell_type": "code",
   "execution_count": null,
   "id": "e136c79b",
   "metadata": {},
   "outputs": [],
   "source": []
  },
  {
   "cell_type": "code",
   "execution_count": 60,
   "id": "94031323",
   "metadata": {
    "ExecuteTime": {
     "end_time": "2023-04-20T15:22:15.655918Z",
     "start_time": "2023-04-20T15:22:15.642991Z"
    }
   },
   "outputs": [],
   "source": [
    "def add_days(data, day_start):\n",
    "    all_data = []\n",
    "    for unit in data.Unit.unique():\n",
    "        df_unit = data[data.Unit == unit].copy()\n",
    "        value_date = np.full(shape=len(df_unit), fill_value=day_start)\n",
    "        value_date = np.array([ day + timedelta(days=nums) for nums, day in enumerate(value_date)])\n",
    "        df_unit['Timestamp'] = value_date\n",
    "        all_data.append(df_unit)\n",
    "    \n",
    "    all_data = pd.concat(all_data).reset_index(drop=True)\n",
    "    return all_data"
   ]
  },
  {
   "cell_type": "code",
   "execution_count": 12,
   "id": "d0ab2d3a",
   "metadata": {
    "ExecuteTime": {
     "end_time": "2023-04-20T14:50:17.272142Z",
     "start_time": "2023-04-20T14:50:17.265780Z"
    }
   },
   "outputs": [],
   "source": []
  },
  {
   "cell_type": "code",
   "execution_count": 54,
   "id": "f02c15f5",
   "metadata": {
    "ExecuteTime": {
     "end_time": "2023-04-20T15:14:22.911295Z",
     "start_time": "2023-04-20T15:14:22.890991Z"
    }
   },
   "outputs": [],
   "source": [
    "data_user = pd.concat(data_user).reset_index(drop=True)"
   ]
  },
  {
   "cell_type": "code",
   "execution_count": 59,
   "id": "2a22dc07",
   "metadata": {
    "ExecuteTime": {
     "end_time": "2023-04-20T15:15:18.305245Z",
     "start_time": "2023-04-20T15:15:18.277827Z"
    }
   },
   "outputs": [
    {
     "data": {
      "text/html": [
       "<div>\n",
       "<style scoped>\n",
       "    .dataframe tbody tr th:only-of-type {\n",
       "        vertical-align: middle;\n",
       "    }\n",
       "\n",
       "    .dataframe tbody tr th {\n",
       "        vertical-align: top;\n",
       "    }\n",
       "\n",
       "    .dataframe thead th {\n",
       "        text-align: right;\n",
       "    }\n",
       "</style>\n",
       "<table border=\"1\" class=\"dataframe\">\n",
       "  <thead>\n",
       "    <tr style=\"text-align: right;\">\n",
       "      <th></th>\n",
       "      <th>Unit</th>\n",
       "      <th>Timestep</th>\n",
       "      <th>op_setting_1</th>\n",
       "      <th>op_setting_2</th>\n",
       "      <th>op_setting_3</th>\n",
       "      <th>sensor_1</th>\n",
       "      <th>sensor_2</th>\n",
       "      <th>sensor_3</th>\n",
       "      <th>sensor_4</th>\n",
       "      <th>sensor_5</th>\n",
       "      <th>...</th>\n",
       "      <th>sensor_13</th>\n",
       "      <th>sensor_14</th>\n",
       "      <th>sensor_15</th>\n",
       "      <th>sensor_16</th>\n",
       "      <th>sensor_17</th>\n",
       "      <th>sensor_18</th>\n",
       "      <th>sensor_19</th>\n",
       "      <th>sensor_20</th>\n",
       "      <th>sensor_21</th>\n",
       "      <th>Timestamp</th>\n",
       "    </tr>\n",
       "  </thead>\n",
       "  <tbody>\n",
       "    <tr>\n",
       "      <th>4843</th>\n",
       "      <td>200</td>\n",
       "      <td>223</td>\n",
       "      <td>42.0047</td>\n",
       "      <td>0.8415</td>\n",
       "      <td>100.0</td>\n",
       "      <td>445.00</td>\n",
       "      <td>550.50</td>\n",
       "      <td>1364.79</td>\n",
       "      <td>1140.95</td>\n",
       "      <td>3.91</td>\n",
       "      <td>...</td>\n",
       "      <td>2388.49</td>\n",
       "      <td>8118.69</td>\n",
       "      <td>9.4247</td>\n",
       "      <td>0.02</td>\n",
       "      <td>336</td>\n",
       "      <td>2212</td>\n",
       "      <td>100.0</td>\n",
       "      <td>10.48</td>\n",
       "      <td>6.2539</td>\n",
       "      <td>2023-09-09</td>\n",
       "    </tr>\n",
       "    <tr>\n",
       "      <th>4844</th>\n",
       "      <td>200</td>\n",
       "      <td>224</td>\n",
       "      <td>20.0030</td>\n",
       "      <td>0.7011</td>\n",
       "      <td>100.0</td>\n",
       "      <td>491.19</td>\n",
       "      <td>608.29</td>\n",
       "      <td>1496.33</td>\n",
       "      <td>1270.24</td>\n",
       "      <td>9.35</td>\n",
       "      <td>...</td>\n",
       "      <td>2388.44</td>\n",
       "      <td>8094.60</td>\n",
       "      <td>9.2891</td>\n",
       "      <td>0.03</td>\n",
       "      <td>369</td>\n",
       "      <td>2324</td>\n",
       "      <td>100.0</td>\n",
       "      <td>24.24</td>\n",
       "      <td>14.4803</td>\n",
       "      <td>2023-09-10</td>\n",
       "    </tr>\n",
       "    <tr>\n",
       "      <th>4845</th>\n",
       "      <td>200</td>\n",
       "      <td>225</td>\n",
       "      <td>10.0066</td>\n",
       "      <td>0.2512</td>\n",
       "      <td>100.0</td>\n",
       "      <td>489.05</td>\n",
       "      <td>605.23</td>\n",
       "      <td>1514.32</td>\n",
       "      <td>1331.20</td>\n",
       "      <td>10.52</td>\n",
       "      <td>...</td>\n",
       "      <td>2388.35</td>\n",
       "      <td>8156.97</td>\n",
       "      <td>8.7224</td>\n",
       "      <td>0.03</td>\n",
       "      <td>373</td>\n",
       "      <td>2319</td>\n",
       "      <td>100.0</td>\n",
       "      <td>28.15</td>\n",
       "      <td>16.8803</td>\n",
       "      <td>2023-09-11</td>\n",
       "    </tr>\n",
       "    <tr>\n",
       "      <th>4846</th>\n",
       "      <td>200</td>\n",
       "      <td>226</td>\n",
       "      <td>20.0078</td>\n",
       "      <td>0.7018</td>\n",
       "      <td>100.0</td>\n",
       "      <td>491.19</td>\n",
       "      <td>608.57</td>\n",
       "      <td>1496.14</td>\n",
       "      <td>1273.54</td>\n",
       "      <td>9.35</td>\n",
       "      <td>...</td>\n",
       "      <td>2388.49</td>\n",
       "      <td>8093.41</td>\n",
       "      <td>9.3098</td>\n",
       "      <td>0.03</td>\n",
       "      <td>369</td>\n",
       "      <td>2324</td>\n",
       "      <td>100.0</td>\n",
       "      <td>24.23</td>\n",
       "      <td>14.6489</td>\n",
       "      <td>2023-09-12</td>\n",
       "    </tr>\n",
       "    <tr>\n",
       "      <th>4847</th>\n",
       "      <td>200</td>\n",
       "      <td>227</td>\n",
       "      <td>42.0008</td>\n",
       "      <td>0.8407</td>\n",
       "      <td>100.0</td>\n",
       "      <td>445.00</td>\n",
       "      <td>550.67</td>\n",
       "      <td>1371.42</td>\n",
       "      <td>1143.94</td>\n",
       "      <td>3.91</td>\n",
       "      <td>...</td>\n",
       "      <td>2388.46</td>\n",
       "      <td>8120.08</td>\n",
       "      <td>9.4332</td>\n",
       "      <td>0.02</td>\n",
       "      <td>335</td>\n",
       "      <td>2212</td>\n",
       "      <td>100.0</td>\n",
       "      <td>10.55</td>\n",
       "      <td>6.2166</td>\n",
       "      <td>2023-09-13</td>\n",
       "    </tr>\n",
       "  </tbody>\n",
       "</table>\n",
       "<p>5 rows × 27 columns</p>\n",
       "</div>"
      ],
      "text/plain": [
       "      Unit  Timestep  op_setting_1  op_setting_2  op_setting_3  sensor_1  \\\n",
       "4843   200       223       42.0047        0.8415         100.0    445.00   \n",
       "4844   200       224       20.0030        0.7011         100.0    491.19   \n",
       "4845   200       225       10.0066        0.2512         100.0    489.05   \n",
       "4846   200       226       20.0078        0.7018         100.0    491.19   \n",
       "4847   200       227       42.0008        0.8407         100.0    445.00   \n",
       "\n",
       "      sensor_2  sensor_3  sensor_4  sensor_5  ...  sensor_13  sensor_14  \\\n",
       "4843    550.50   1364.79   1140.95      3.91  ...    2388.49    8118.69   \n",
       "4844    608.29   1496.33   1270.24      9.35  ...    2388.44    8094.60   \n",
       "4845    605.23   1514.32   1331.20     10.52  ...    2388.35    8156.97   \n",
       "4846    608.57   1496.14   1273.54      9.35  ...    2388.49    8093.41   \n",
       "4847    550.67   1371.42   1143.94      3.91  ...    2388.46    8120.08   \n",
       "\n",
       "      sensor_15  sensor_16  sensor_17  sensor_18  sensor_19  sensor_20  \\\n",
       "4843     9.4247       0.02        336       2212      100.0      10.48   \n",
       "4844     9.2891       0.03        369       2324      100.0      24.24   \n",
       "4845     8.7224       0.03        373       2319      100.0      28.15   \n",
       "4846     9.3098       0.03        369       2324      100.0      24.23   \n",
       "4847     9.4332       0.02        335       2212      100.0      10.55   \n",
       "\n",
       "      sensor_21   Timestamp  \n",
       "4843     6.2539  2023-09-09  \n",
       "4844    14.4803  2023-09-10  \n",
       "4845    16.8803  2023-09-11  \n",
       "4846    14.6489  2023-09-12  \n",
       "4847     6.2166  2023-09-13  \n",
       "\n",
       "[5 rows x 27 columns]"
      ]
     },
     "execution_count": 59,
     "metadata": {},
     "output_type": "execute_result"
    }
   ],
   "source": [
    "data_user[data_user.Unit == 200].tail()"
   ]
  },
  {
   "cell_type": "code",
   "execution_count": 61,
   "id": "0b9ee2bb",
   "metadata": {
    "ExecuteTime": {
     "end_time": "2023-04-23T06:18:52.845424Z",
     "start_time": "2023-04-23T06:18:52.829612Z"
    }
   },
   "outputs": [
    {
     "data": {
      "text/plain": [
       "Unit\n",
       "176    164\n",
       "177    181\n",
       "178    148\n",
       "179    181\n",
       "180    297\n",
       "      ... \n",
       "256    163\n",
       "257    309\n",
       "258    143\n",
       "259    205\n",
       "260    316\n",
       "Name: Timestep, Length: 85, dtype: int64"
      ]
     },
     "execution_count": 61,
     "metadata": {},
     "output_type": "execute_result"
    }
   ],
   "source": [
    "all_test.groupby(by='Unit').max()['Timestep']"
   ]
  },
  {
   "cell_type": "code",
   "execution_count": 63,
   "id": "b8fa8142",
   "metadata": {
    "ExecuteTime": {
     "end_time": "2023-04-20T15:24:41.257503Z",
     "start_time": "2023-04-20T15:24:41.149504Z"
    }
   },
   "outputs": [],
   "source": [
    "data_user.to_csv(\"data_user.csv\", index=False)"
   ]
  },
  {
   "cell_type": "code",
   "execution_count": 64,
   "id": "d8f71c44",
   "metadata": {
    "ExecuteTime": {
     "end_time": "2023-04-20T15:25:03.277635Z",
     "start_time": "2023-04-20T15:25:03.265752Z"
    }
   },
   "outputs": [
    {
     "data": {
      "text/plain": [
       "48"
      ]
     },
     "execution_count": 64,
     "metadata": {},
     "output_type": "execute_result"
    }
   ],
   "source": [
    "data_user.Unit.nunique()"
   ]
  },
  {
   "cell_type": "code",
   "execution_count": 3,
   "id": "8fcc4f05",
   "metadata": {
    "ExecuteTime": {
     "end_time": "2023-04-22T00:08:11.324131Z",
     "start_time": "2023-04-22T00:08:11.314024Z"
    }
   },
   "outputs": [
    {
     "data": {
      "text/plain": [
       "datetime.date(2023, 4, 22)"
      ]
     },
     "execution_count": 3,
     "metadata": {},
     "output_type": "execute_result"
    }
   ],
   "source": [
    "date_now = date.today()\n",
    "date_now"
   ]
  },
  {
   "cell_type": "code",
   "execution_count": 17,
   "id": "3bb82794",
   "metadata": {
    "ExecuteTime": {
     "end_time": "2023-04-22T00:37:26.718871Z",
     "start_time": "2023-04-22T00:37:26.706554Z"
    }
   },
   "outputs": [
    {
     "data": {
      "text/plain": [
       "datetime.date(2023, 1, 31)"
      ]
     },
     "execution_count": 17,
     "metadata": {},
     "output_type": "execute_result"
    }
   ],
   "source": [
    "date_now = date.today() - timedelta(days=81)\n",
    "date_now"
   ]
  },
  {
   "cell_type": "code",
   "execution_count": 18,
   "id": "1932b08c",
   "metadata": {
    "ExecuteTime": {
     "end_time": "2023-04-22T00:37:30.650749Z",
     "start_time": "2023-04-22T00:37:30.641805Z"
    }
   },
   "outputs": [],
   "source": [
    "file = open('date_now.txt', 'w')\n",
    "file.write(date_now.strftime(\"%Y-%m-%d\"))\n",
    "file.close()"
   ]
  },
  {
   "cell_type": "code",
   "execution_count": 22,
   "id": "622e5959",
   "metadata": {
    "ExecuteTime": {
     "end_time": "2023-04-22T00:41:06.987182Z",
     "start_time": "2023-04-22T00:41:06.980644Z"
    }
   },
   "outputs": [],
   "source": [
    "file = open('date_now.txt', 'r')\n",
    "get_day = file.readline()"
   ]
  },
  {
   "cell_type": "code",
   "execution_count": 23,
   "id": "eb9f310f",
   "metadata": {
    "ExecuteTime": {
     "end_time": "2023-04-22T00:41:10.045609Z",
     "start_time": "2023-04-22T00:41:10.037999Z"
    }
   },
   "outputs": [
    {
     "data": {
      "text/plain": [
       "'2023-01-31'"
      ]
     },
     "execution_count": 23,
     "metadata": {},
     "output_type": "execute_result"
    }
   ],
   "source": [
    "get_day"
   ]
  },
  {
   "cell_type": "code",
   "execution_count": 48,
   "id": "30a95a56",
   "metadata": {
    "ExecuteTime": {
     "end_time": "2023-04-22T00:52:42.904253Z",
     "start_time": "2023-04-22T00:52:42.890502Z"
    }
   },
   "outputs": [
    {
     "data": {
      "text/plain": [
       "'2023-01-31'"
      ]
     },
     "execution_count": 48,
     "metadata": {},
     "output_type": "execute_result"
    }
   ],
   "source": [
    "num_inc = 1\n",
    "with open('date_now.txt', 'r') as file:\n",
    "    get_day = file.readline()\n",
    "    file.close()\n",
    "get_day"
   ]
  },
  {
   "cell_type": "code",
   "execution_count": 46,
   "id": "bb841eb3",
   "metadata": {
    "ExecuteTime": {
     "end_time": "2023-04-22T00:51:37.763078Z",
     "start_time": "2023-04-22T00:51:37.751678Z"
    }
   },
   "outputs": [
    {
     "data": {
      "text/plain": [
       "datetime.date(2023, 2, 1)"
      ]
     },
     "execution_count": 46,
     "metadata": {},
     "output_type": "execute_result"
    }
   ],
   "source": [
    "date_now = datetime.strptime(get_day, '%Y-%m-%d').date()\n",
    "\n",
    "if num_inc <= 0: \n",
    "    date_now -= timedelta(days=abs(num_inc))\n",
    "else:\n",
    "    date_now += timedelta(days=abs(num_inc))\n",
    "    \n",
    "date_now\n"
   ]
  },
  {
   "cell_type": "code",
   "execution_count": 49,
   "id": "d99ec876",
   "metadata": {
    "ExecuteTime": {
     "end_time": "2023-04-22T00:53:46.773861Z",
     "start_time": "2023-04-22T00:53:46.765927Z"
    }
   },
   "outputs": [],
   "source": [
    "with open('date_now.txt', 'w') as file:\n",
    "    file.write(date_now.strftime(\"%Y-%m-%d\"))\n",
    "    file.close()"
   ]
  },
  {
   "cell_type": "code",
   "execution_count": 50,
   "id": "95d66efc",
   "metadata": {
    "ExecuteTime": {
     "end_time": "2023-04-22T00:57:28.618090Z",
     "start_time": "2023-04-22T00:57:28.606481Z"
    }
   },
   "outputs": [],
   "source": [
    "def increase_day(num_inc = 1):\n",
    "    with open('date_now.txt', 'r') as file:\n",
    "        get_day = file.readline()\n",
    "        file.close()\n",
    "        \n",
    "    date_now = datetime.strptime(get_day, '%Y-%m-%d').date()\n",
    "    if num_inc <= 0: \n",
    "        date_now -= timedelta(days=abs(num_inc))\n",
    "    else:\n",
    "        date_now += timedelta(days=abs(num_inc))      \n",
    "        \n",
    "    with open('date_now.txt', 'w') as file:\n",
    "        file.write(date_now.strftime(\"%Y-%m-%d\"))\n",
    "        file.close()"
   ]
  },
  {
   "cell_type": "code",
   "execution_count": 53,
   "id": "9ab6c116",
   "metadata": {
    "ExecuteTime": {
     "end_time": "2023-04-22T00:58:02.524857Z",
     "start_time": "2023-04-22T00:58:02.518257Z"
    }
   },
   "outputs": [],
   "source": [
    "increase_day(-2)"
   ]
  },
  {
   "cell_type": "code",
   "execution_count": 47,
   "id": "c517a9b9",
   "metadata": {
    "ExecuteTime": {
     "end_time": "2023-04-22T00:52:28.265394Z",
     "start_time": "2023-04-22T00:52:28.255343Z"
    }
   },
   "outputs": [
    {
     "data": {
      "text/plain": [
       "<_io.TextIOWrapper name='date_now.txt' mode='r' encoding='UTF-8'>"
      ]
     },
     "execution_count": 47,
     "metadata": {},
     "output_type": "execute_result"
    }
   ],
   "source": []
  },
  {
   "cell_type": "code",
   "execution_count": 36,
   "id": "a27fc9ec",
   "metadata": {
    "ExecuteTime": {
     "end_time": "2023-04-22T00:46:36.180016Z",
     "start_time": "2023-04-22T00:46:36.172469Z"
    }
   },
   "outputs": [],
   "source": [
    "from datetime import datetime\n",
    "\n",
    "datetime_str = '09/19/22'\n",
    "datetime_object = datetime.strptime(datetime_str, '%m/%d/%y')"
   ]
  },
  {
   "cell_type": "code",
   "execution_count": 37,
   "id": "807d1a24",
   "metadata": {
    "ExecuteTime": {
     "end_time": "2023-04-22T00:46:36.641374Z",
     "start_time": "2023-04-22T00:46:36.633255Z"
    }
   },
   "outputs": [
    {
     "data": {
      "text/plain": [
       "datetime.datetime(2022, 9, 19, 0, 0)"
      ]
     },
     "execution_count": 37,
     "metadata": {},
     "output_type": "execute_result"
    }
   ],
   "source": [
    "datetime_object"
   ]
  },
  {
   "cell_type": "code",
   "execution_count": 62,
   "id": "20fe8496",
   "metadata": {
    "ExecuteTime": {
     "end_time": "2023-04-23T12:34:48.436369Z",
     "start_time": "2023-04-23T12:34:48.412369Z"
    }
   },
   "outputs": [],
   "source": [
    "df_user = pd.read_csv('data_user.csv')"
   ]
  },
  {
   "cell_type": "code",
   "execution_count": 63,
   "id": "94b813f5",
   "metadata": {
    "ExecuteTime": {
     "end_time": "2023-04-23T12:34:56.788983Z",
     "start_time": "2023-04-23T12:34:56.759508Z"
    }
   },
   "outputs": [
    {
     "data": {
      "text/html": [
       "<div>\n",
       "<style scoped>\n",
       "    .dataframe tbody tr th:only-of-type {\n",
       "        vertical-align: middle;\n",
       "    }\n",
       "\n",
       "    .dataframe tbody tr th {\n",
       "        vertical-align: top;\n",
       "    }\n",
       "\n",
       "    .dataframe thead th {\n",
       "        text-align: right;\n",
       "    }\n",
       "</style>\n",
       "<table border=\"1\" class=\"dataframe\">\n",
       "  <thead>\n",
       "    <tr style=\"text-align: right;\">\n",
       "      <th></th>\n",
       "      <th>Unit</th>\n",
       "      <th>Timestep</th>\n",
       "      <th>op_setting_1</th>\n",
       "      <th>op_setting_2</th>\n",
       "      <th>op_setting_3</th>\n",
       "      <th>sensor_1</th>\n",
       "      <th>sensor_2</th>\n",
       "      <th>sensor_3</th>\n",
       "      <th>sensor_4</th>\n",
       "      <th>sensor_5</th>\n",
       "      <th>...</th>\n",
       "      <th>sensor_13</th>\n",
       "      <th>sensor_14</th>\n",
       "      <th>sensor_15</th>\n",
       "      <th>sensor_16</th>\n",
       "      <th>sensor_17</th>\n",
       "      <th>sensor_18</th>\n",
       "      <th>sensor_19</th>\n",
       "      <th>sensor_20</th>\n",
       "      <th>sensor_21</th>\n",
       "      <th>Timestamp</th>\n",
       "    </tr>\n",
       "  </thead>\n",
       "  <tbody>\n",
       "    <tr>\n",
       "      <th>0</th>\n",
       "      <td>176</td>\n",
       "      <td>1</td>\n",
       "      <td>42.0003</td>\n",
       "      <td>0.8400</td>\n",
       "      <td>100.0</td>\n",
       "      <td>445.00</td>\n",
       "      <td>549.37</td>\n",
       "      <td>1345.94</td>\n",
       "      <td>1128.55</td>\n",
       "      <td>3.91</td>\n",
       "      <td>...</td>\n",
       "      <td>2387.95</td>\n",
       "      <td>8082.22</td>\n",
       "      <td>9.3796</td>\n",
       "      <td>0.02</td>\n",
       "      <td>331</td>\n",
       "      <td>2212</td>\n",
       "      <td>100.00</td>\n",
       "      <td>10.76</td>\n",
       "      <td>6.3382</td>\n",
       "      <td>2023-01-30</td>\n",
       "    </tr>\n",
       "    <tr>\n",
       "      <th>1</th>\n",
       "      <td>176</td>\n",
       "      <td>2</td>\n",
       "      <td>0.0021</td>\n",
       "      <td>0.0000</td>\n",
       "      <td>100.0</td>\n",
       "      <td>518.67</td>\n",
       "      <td>642.25</td>\n",
       "      <td>1583.77</td>\n",
       "      <td>1402.43</td>\n",
       "      <td>14.62</td>\n",
       "      <td>...</td>\n",
       "      <td>2388.12</td>\n",
       "      <td>8138.43</td>\n",
       "      <td>8.4156</td>\n",
       "      <td>0.03</td>\n",
       "      <td>394</td>\n",
       "      <td>2388</td>\n",
       "      <td>100.00</td>\n",
       "      <td>39.06</td>\n",
       "      <td>23.3051</td>\n",
       "      <td>2023-01-31</td>\n",
       "    </tr>\n",
       "    <tr>\n",
       "      <th>2</th>\n",
       "      <td>176</td>\n",
       "      <td>3</td>\n",
       "      <td>25.0002</td>\n",
       "      <td>0.6212</td>\n",
       "      <td>60.0</td>\n",
       "      <td>462.54</td>\n",
       "      <td>537.03</td>\n",
       "      <td>1265.74</td>\n",
       "      <td>1043.04</td>\n",
       "      <td>7.05</td>\n",
       "      <td>...</td>\n",
       "      <td>2028.26</td>\n",
       "      <td>7874.99</td>\n",
       "      <td>10.8821</td>\n",
       "      <td>0.02</td>\n",
       "      <td>306</td>\n",
       "      <td>1915</td>\n",
       "      <td>84.93</td>\n",
       "      <td>14.41</td>\n",
       "      <td>8.7017</td>\n",
       "      <td>2023-02-01</td>\n",
       "    </tr>\n",
       "    <tr>\n",
       "      <th>3</th>\n",
       "      <td>176</td>\n",
       "      <td>4</td>\n",
       "      <td>41.9994</td>\n",
       "      <td>0.8400</td>\n",
       "      <td>100.0</td>\n",
       "      <td>445.00</td>\n",
       "      <td>549.93</td>\n",
       "      <td>1350.62</td>\n",
       "      <td>1131.21</td>\n",
       "      <td>3.91</td>\n",
       "      <td>...</td>\n",
       "      <td>2387.97</td>\n",
       "      <td>8090.01</td>\n",
       "      <td>9.3628</td>\n",
       "      <td>0.02</td>\n",
       "      <td>330</td>\n",
       "      <td>2212</td>\n",
       "      <td>100.00</td>\n",
       "      <td>10.49</td>\n",
       "      <td>6.2807</td>\n",
       "      <td>2023-02-02</td>\n",
       "    </tr>\n",
       "    <tr>\n",
       "      <th>4</th>\n",
       "      <td>176</td>\n",
       "      <td>5</td>\n",
       "      <td>34.9998</td>\n",
       "      <td>0.8400</td>\n",
       "      <td>100.0</td>\n",
       "      <td>449.44</td>\n",
       "      <td>555.71</td>\n",
       "      <td>1371.53</td>\n",
       "      <td>1130.00</td>\n",
       "      <td>5.48</td>\n",
       "      <td>...</td>\n",
       "      <td>2388.04</td>\n",
       "      <td>8071.90</td>\n",
       "      <td>9.2974</td>\n",
       "      <td>0.02</td>\n",
       "      <td>334</td>\n",
       "      <td>2223</td>\n",
       "      <td>100.00</td>\n",
       "      <td>14.82</td>\n",
       "      <td>8.9769</td>\n",
       "      <td>2023-02-03</td>\n",
       "    </tr>\n",
       "  </tbody>\n",
       "</table>\n",
       "<p>5 rows × 27 columns</p>\n",
       "</div>"
      ],
      "text/plain": [
       "   Unit  Timestep  op_setting_1  op_setting_2  op_setting_3  sensor_1  \\\n",
       "0   176         1       42.0003        0.8400         100.0    445.00   \n",
       "1   176         2        0.0021        0.0000         100.0    518.67   \n",
       "2   176         3       25.0002        0.6212          60.0    462.54   \n",
       "3   176         4       41.9994        0.8400         100.0    445.00   \n",
       "4   176         5       34.9998        0.8400         100.0    449.44   \n",
       "\n",
       "   sensor_2  sensor_3  sensor_4  sensor_5  ...  sensor_13  sensor_14  \\\n",
       "0    549.37   1345.94   1128.55      3.91  ...    2387.95    8082.22   \n",
       "1    642.25   1583.77   1402.43     14.62  ...    2388.12    8138.43   \n",
       "2    537.03   1265.74   1043.04      7.05  ...    2028.26    7874.99   \n",
       "3    549.93   1350.62   1131.21      3.91  ...    2387.97    8090.01   \n",
       "4    555.71   1371.53   1130.00      5.48  ...    2388.04    8071.90   \n",
       "\n",
       "   sensor_15  sensor_16  sensor_17  sensor_18  sensor_19  sensor_20  \\\n",
       "0     9.3796       0.02        331       2212     100.00      10.76   \n",
       "1     8.4156       0.03        394       2388     100.00      39.06   \n",
       "2    10.8821       0.02        306       1915      84.93      14.41   \n",
       "3     9.3628       0.02        330       2212     100.00      10.49   \n",
       "4     9.2974       0.02        334       2223     100.00      14.82   \n",
       "\n",
       "   sensor_21   Timestamp  \n",
       "0     6.3382  2023-01-30  \n",
       "1    23.3051  2023-01-31  \n",
       "2     8.7017  2023-02-01  \n",
       "3     6.2807  2023-02-02  \n",
       "4     8.9769  2023-02-03  \n",
       "\n",
       "[5 rows x 27 columns]"
      ]
     },
     "execution_count": 63,
     "metadata": {},
     "output_type": "execute_result"
    }
   ],
   "source": [
    "df_user.head()"
   ]
  },
  {
   "cell_type": "code",
   "execution_count": 64,
   "id": "e40b956f",
   "metadata": {
    "ExecuteTime": {
     "end_time": "2023-04-23T12:35:42.324638Z",
     "start_time": "2023-04-23T12:35:42.313281Z"
    }
   },
   "outputs": [
    {
     "data": {
      "text/plain": [
       "9420"
      ]
     },
     "execution_count": 64,
     "metadata": {},
     "output_type": "execute_result"
    }
   ],
   "source": [
    "len(df_user)"
   ]
  },
  {
   "cell_type": "code",
   "execution_count": 66,
   "id": "c92484b9",
   "metadata": {
    "ExecuteTime": {
     "end_time": "2023-04-23T12:36:46.002163Z",
     "start_time": "2023-04-23T12:36:45.991202Z"
    }
   },
   "outputs": [
    {
     "data": {
      "text/plain": [
       "9420"
      ]
     },
     "execution_count": 66,
     "metadata": {},
     "output_type": "execute_result"
    }
   ],
   "source": [
    "len(np.full(len(df_user), 1))"
   ]
  },
  {
   "cell_type": "code",
   "execution_count": 67,
   "id": "7bc8e6d1",
   "metadata": {
    "ExecuteTime": {
     "end_time": "2023-04-23T12:38:58.700205Z",
     "start_time": "2023-04-23T12:38:58.689668Z"
    }
   },
   "outputs": [],
   "source": [
    "df_user['is_user'] = np.full(len(df_user), 1)"
   ]
  },
  {
   "cell_type": "code",
   "execution_count": 68,
   "id": "5de88e51",
   "metadata": {
    "ExecuteTime": {
     "end_time": "2023-04-23T12:39:04.350940Z",
     "start_time": "2023-04-23T12:39:04.322572Z"
    }
   },
   "outputs": [
    {
     "data": {
      "text/html": [
       "<div>\n",
       "<style scoped>\n",
       "    .dataframe tbody tr th:only-of-type {\n",
       "        vertical-align: middle;\n",
       "    }\n",
       "\n",
       "    .dataframe tbody tr th {\n",
       "        vertical-align: top;\n",
       "    }\n",
       "\n",
       "    .dataframe thead th {\n",
       "        text-align: right;\n",
       "    }\n",
       "</style>\n",
       "<table border=\"1\" class=\"dataframe\">\n",
       "  <thead>\n",
       "    <tr style=\"text-align: right;\">\n",
       "      <th></th>\n",
       "      <th>Unit</th>\n",
       "      <th>Timestep</th>\n",
       "      <th>op_setting_1</th>\n",
       "      <th>op_setting_2</th>\n",
       "      <th>op_setting_3</th>\n",
       "      <th>sensor_1</th>\n",
       "      <th>sensor_2</th>\n",
       "      <th>sensor_3</th>\n",
       "      <th>sensor_4</th>\n",
       "      <th>sensor_5</th>\n",
       "      <th>...</th>\n",
       "      <th>sensor_14</th>\n",
       "      <th>sensor_15</th>\n",
       "      <th>sensor_16</th>\n",
       "      <th>sensor_17</th>\n",
       "      <th>sensor_18</th>\n",
       "      <th>sensor_19</th>\n",
       "      <th>sensor_20</th>\n",
       "      <th>sensor_21</th>\n",
       "      <th>Timestamp</th>\n",
       "      <th>is_user</th>\n",
       "    </tr>\n",
       "  </thead>\n",
       "  <tbody>\n",
       "    <tr>\n",
       "      <th>0</th>\n",
       "      <td>176</td>\n",
       "      <td>1</td>\n",
       "      <td>42.0003</td>\n",
       "      <td>0.8400</td>\n",
       "      <td>100.0</td>\n",
       "      <td>445.00</td>\n",
       "      <td>549.37</td>\n",
       "      <td>1345.94</td>\n",
       "      <td>1128.55</td>\n",
       "      <td>3.91</td>\n",
       "      <td>...</td>\n",
       "      <td>8082.22</td>\n",
       "      <td>9.3796</td>\n",
       "      <td>0.02</td>\n",
       "      <td>331</td>\n",
       "      <td>2212</td>\n",
       "      <td>100.00</td>\n",
       "      <td>10.76</td>\n",
       "      <td>6.3382</td>\n",
       "      <td>2023-01-30</td>\n",
       "      <td>1</td>\n",
       "    </tr>\n",
       "    <tr>\n",
       "      <th>1</th>\n",
       "      <td>176</td>\n",
       "      <td>2</td>\n",
       "      <td>0.0021</td>\n",
       "      <td>0.0000</td>\n",
       "      <td>100.0</td>\n",
       "      <td>518.67</td>\n",
       "      <td>642.25</td>\n",
       "      <td>1583.77</td>\n",
       "      <td>1402.43</td>\n",
       "      <td>14.62</td>\n",
       "      <td>...</td>\n",
       "      <td>8138.43</td>\n",
       "      <td>8.4156</td>\n",
       "      <td>0.03</td>\n",
       "      <td>394</td>\n",
       "      <td>2388</td>\n",
       "      <td>100.00</td>\n",
       "      <td>39.06</td>\n",
       "      <td>23.3051</td>\n",
       "      <td>2023-01-31</td>\n",
       "      <td>1</td>\n",
       "    </tr>\n",
       "    <tr>\n",
       "      <th>2</th>\n",
       "      <td>176</td>\n",
       "      <td>3</td>\n",
       "      <td>25.0002</td>\n",
       "      <td>0.6212</td>\n",
       "      <td>60.0</td>\n",
       "      <td>462.54</td>\n",
       "      <td>537.03</td>\n",
       "      <td>1265.74</td>\n",
       "      <td>1043.04</td>\n",
       "      <td>7.05</td>\n",
       "      <td>...</td>\n",
       "      <td>7874.99</td>\n",
       "      <td>10.8821</td>\n",
       "      <td>0.02</td>\n",
       "      <td>306</td>\n",
       "      <td>1915</td>\n",
       "      <td>84.93</td>\n",
       "      <td>14.41</td>\n",
       "      <td>8.7017</td>\n",
       "      <td>2023-02-01</td>\n",
       "      <td>1</td>\n",
       "    </tr>\n",
       "    <tr>\n",
       "      <th>3</th>\n",
       "      <td>176</td>\n",
       "      <td>4</td>\n",
       "      <td>41.9994</td>\n",
       "      <td>0.8400</td>\n",
       "      <td>100.0</td>\n",
       "      <td>445.00</td>\n",
       "      <td>549.93</td>\n",
       "      <td>1350.62</td>\n",
       "      <td>1131.21</td>\n",
       "      <td>3.91</td>\n",
       "      <td>...</td>\n",
       "      <td>8090.01</td>\n",
       "      <td>9.3628</td>\n",
       "      <td>0.02</td>\n",
       "      <td>330</td>\n",
       "      <td>2212</td>\n",
       "      <td>100.00</td>\n",
       "      <td>10.49</td>\n",
       "      <td>6.2807</td>\n",
       "      <td>2023-02-02</td>\n",
       "      <td>1</td>\n",
       "    </tr>\n",
       "    <tr>\n",
       "      <th>4</th>\n",
       "      <td>176</td>\n",
       "      <td>5</td>\n",
       "      <td>34.9998</td>\n",
       "      <td>0.8400</td>\n",
       "      <td>100.0</td>\n",
       "      <td>449.44</td>\n",
       "      <td>555.71</td>\n",
       "      <td>1371.53</td>\n",
       "      <td>1130.00</td>\n",
       "      <td>5.48</td>\n",
       "      <td>...</td>\n",
       "      <td>8071.90</td>\n",
       "      <td>9.2974</td>\n",
       "      <td>0.02</td>\n",
       "      <td>334</td>\n",
       "      <td>2223</td>\n",
       "      <td>100.00</td>\n",
       "      <td>14.82</td>\n",
       "      <td>8.9769</td>\n",
       "      <td>2023-02-03</td>\n",
       "      <td>1</td>\n",
       "    </tr>\n",
       "  </tbody>\n",
       "</table>\n",
       "<p>5 rows × 28 columns</p>\n",
       "</div>"
      ],
      "text/plain": [
       "   Unit  Timestep  op_setting_1  op_setting_2  op_setting_3  sensor_1  \\\n",
       "0   176         1       42.0003        0.8400         100.0    445.00   \n",
       "1   176         2        0.0021        0.0000         100.0    518.67   \n",
       "2   176         3       25.0002        0.6212          60.0    462.54   \n",
       "3   176         4       41.9994        0.8400         100.0    445.00   \n",
       "4   176         5       34.9998        0.8400         100.0    449.44   \n",
       "\n",
       "   sensor_2  sensor_3  sensor_4  sensor_5  ...  sensor_14  sensor_15  \\\n",
       "0    549.37   1345.94   1128.55      3.91  ...    8082.22     9.3796   \n",
       "1    642.25   1583.77   1402.43     14.62  ...    8138.43     8.4156   \n",
       "2    537.03   1265.74   1043.04      7.05  ...    7874.99    10.8821   \n",
       "3    549.93   1350.62   1131.21      3.91  ...    8090.01     9.3628   \n",
       "4    555.71   1371.53   1130.00      5.48  ...    8071.90     9.2974   \n",
       "\n",
       "   sensor_16  sensor_17  sensor_18  sensor_19  sensor_20  sensor_21  \\\n",
       "0       0.02        331       2212     100.00      10.76     6.3382   \n",
       "1       0.03        394       2388     100.00      39.06    23.3051   \n",
       "2       0.02        306       1915      84.93      14.41     8.7017   \n",
       "3       0.02        330       2212     100.00      10.49     6.2807   \n",
       "4       0.02        334       2223     100.00      14.82     8.9769   \n",
       "\n",
       "    Timestamp  is_user  \n",
       "0  2023-01-30        1  \n",
       "1  2023-01-31        1  \n",
       "2  2023-02-01        1  \n",
       "3  2023-02-02        1  \n",
       "4  2023-02-03        1  \n",
       "\n",
       "[5 rows x 28 columns]"
      ]
     },
     "execution_count": 68,
     "metadata": {},
     "output_type": "execute_result"
    }
   ],
   "source": [
    "df_user.head()"
   ]
  },
  {
   "cell_type": "code",
   "execution_count": 69,
   "id": "af41f50b",
   "metadata": {
    "ExecuteTime": {
     "end_time": "2023-04-23T12:41:00.604392Z",
     "start_time": "2023-04-23T12:41:00.508959Z"
    }
   },
   "outputs": [],
   "source": [
    "df_user.to_csv(\"data_user.csv\", index=False)"
   ]
  },
  {
   "cell_type": "code",
   "execution_count": null,
   "id": "0e4c7ca9",
   "metadata": {},
   "outputs": [],
   "source": []
  }
 ],
 "metadata": {
  "kernelspec": {
   "display_name": "jupyter_notebook",
   "language": "python",
   "name": "jupyter_notebook"
  },
  "language_info": {
   "codemirror_mode": {
    "name": "ipython",
    "version": 3
   },
   "file_extension": ".py",
   "mimetype": "text/x-python",
   "name": "python",
   "nbconvert_exporter": "python",
   "pygments_lexer": "ipython3",
   "version": "3.10.9"
  },
  "toc": {
   "base_numbering": 1,
   "nav_menu": {},
   "number_sections": true,
   "sideBar": true,
   "skip_h1_title": false,
   "title_cell": "Table of Contents",
   "title_sidebar": "Contents",
   "toc_cell": false,
   "toc_position": {},
   "toc_section_display": true,
   "toc_window_display": false
  },
  "varInspector": {
   "cols": {
    "lenName": 16,
    "lenType": 16,
    "lenVar": 40
   },
   "kernels_config": {
    "python": {
     "delete_cmd_postfix": "",
     "delete_cmd_prefix": "del ",
     "library": "var_list.py",
     "varRefreshCmd": "print(var_dic_list())"
    },
    "r": {
     "delete_cmd_postfix": ") ",
     "delete_cmd_prefix": "rm(",
     "library": "var_list.r",
     "varRefreshCmd": "cat(var_dic_list()) "
    }
   },
   "types_to_exclude": [
    "module",
    "function",
    "builtin_function_or_method",
    "instance",
    "_Feature"
   ],
   "window_display": false
  }
 },
 "nbformat": 4,
 "nbformat_minor": 5
}
